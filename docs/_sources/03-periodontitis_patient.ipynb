{
 "cells": [
  {
   "cell_type": "markdown",
   "metadata": {},
   "source": [
    "# Staging"
   ]
  },
  {
   "cell_type": "code",
   "execution_count": 1,
   "metadata": {
    "tags": []
   },
   "outputs": [
    {
     "name": "stdout",
     "output_type": "stream",
     "text": [
      "\n",
      "---------------------------------\n",
      "Working on the host: Joachims-MacBook-Pro.local\n",
      "\n",
      "---------------------------------\n",
      "Python version: 3.9.7 (default, Sep 16 2021, 08:50:36) \n",
      "[Clang 10.0.0 ]\n",
      "\n",
      "---------------------------------\n",
      "Python interpreter: /opt/miniconda3/envs/idz-parostatus/bin/python\n",
      "\n",
      "---------------------------------\n",
      "Root (ROOT) directory is set to /Users/jokr/Documents/Projekte_Extern/IDZ/DMS-V-ParoStatus\n",
      "---------------------------------\n",
      "data (DATA) directory is set to /Users/jokr/Documents/Projekte_Extern/IDZ/DMS-V-ParoStatus/data\n",
      "---------------------------------\n",
      "Attaching the following source folders:\n",
      "/Users/jokr/Documents/Projekte_Extern/IDZ/DMS-V-ParoStatus/src\n"
     ]
    }
   ],
   "source": [
    "%matplotlib inline\n",
    "# Load the \"autoreload\" extension\n",
    "%load_ext autoreload\n",
    "# always reload modules\n",
    "%autoreload 2\n",
    "# black formatter for jupyter notebooks\n",
    "#%load_ext nb_black\n",
    "# black formatter f|or jupyter lab\n",
    "%load_ext lab_black\n",
    "\n",
    "%run ../src/notebook_env.py"
   ]
  },
  {
   "cell_type": "markdown",
   "metadata": {},
   "source": [
    "**Import modules**"
   ]
  },
  {
   "cell_type": "code",
   "execution_count": 2,
   "metadata": {},
   "outputs": [],
   "source": [
    "import numpy as np\n",
    "import pandas as pd\n",
    "import matplotlib.pyplot as plt\n",
    "import re"
   ]
  },
  {
   "cell_type": "code",
   "execution_count": 3,
   "metadata": {},
   "outputs": [],
   "source": [
    "from util import FdiNomenclaure, less_than_two_non_adjacent_teeth\n",
    "\n",
    "fdi = FdiNomenclaure()"
   ]
  },
  {
   "cell_type": "markdown",
   "metadata": {
    "tags": []
   },
   "source": [
    "## Load cohort dataset"
   ]
  },
  {
   "cell_type": "code",
   "execution_count": 4,
   "metadata": {},
   "outputs": [
    {
     "data": {
      "text/plain": [
       "(927, 748)"
      ]
     },
     "execution_count": 4,
     "metadata": {},
     "output_type": "execute_result"
    }
   ],
   "source": [
    "fp = DATA.joinpath(\"processed\")\n",
    "fn = \"dmsV_periodontitis_cases.parquet\"\n",
    "file = fp.joinpath(fn)\n",
    "assert file.exists()\n",
    "\n",
    "data = pd.read_parquet(file)\n",
    "data.shape"
   ]
  },
  {
   "cell_type": "markdown",
   "metadata": {},
   "source": [
    "## Periodontitis cases (Step 2b - Staging (without `MT`))"
   ]
  },
  {
   "cell_type": "markdown",
   "metadata": {},
   "source": [
    "<img src=../_img/Staging_wo_MT.png>"
   ]
  },
  {
   "cell_type": "markdown",
   "metadata": {},
   "source": [
    "If maximum CAL is ≥1 mm, the periodontitis case criterion (interdental CAL is detectable at ≥2 non-adjacent teeth, or buccal or oral CAL ≥3 mm with pocketing ≥3 mm is detectable at ≥2 teeth) is checked. "
   ]
  },
  {
   "cell_type": "code",
   "execution_count": 5,
   "metadata": {},
   "outputs": [],
   "source": [
    "staged_patients = {}"
   ]
  },
  {
   "cell_type": "markdown",
   "metadata": {},
   "source": [
    "### Check for `maximum CAL is ≥1 mm` \n",
    "Except 90 special staging case no CAL measurement"
   ]
  },
  {
   "cell_type": "code",
   "execution_count": 6,
   "metadata": {},
   "outputs": [],
   "source": [
    "_max_CAL_geg_1_mm = (data[[\"maxCALappr\", \"maxCALbo\"]] >= 1).any(axis=1).sum()\n",
    "recall_no_CAL_staging_case = 90\n",
    "assert (\n",
    "    _max_CAL_geg_1_mm == data.shape[0] - recall_no_CAL_staging_case\n",
    "), _max_CAL_geg_1_mm"
   ]
  },
  {
   "cell_type": "markdown",
   "metadata": {},
   "source": [
    "### Check for interdental CAL is detectable at ≥2 non-adjacent teeth\n",
    "\n",
    "Except 36 special staging case no CAL measurement"
   ]
  },
  {
   "cell_type": "code",
   "execution_count": 7,
   "metadata": {},
   "outputs": [],
   "source": [
    "pattern = r\"maxCALappr\\d{2}$\"\n",
    "cols = data.columns[[bool(re.match(pattern, c)) for c in data.columns]]\n",
    "interCAL_geq2_NA_tooth = data[cols].copy()\n",
    "interCAL_geq2_NA_tooth.columns = [str(x[-2:]) for x in interCAL_geq2_NA_tooth.columns]\n",
    "interCAL_geq2_NA_tooth = interCAL_geq2_NA_tooth[[str(x) for x in fdi.full_dentition]]\n",
    "interCAL_geq2_NA_tooth_idx = less_than_two_non_adjacent_teeth(\n",
    "    interCAL_geq2_NA_tooth, fdi.full_dentition\n",
    ")\n",
    "recall_few_teeth_staging = 36\n",
    "assert len(interCAL_geq2_NA_tooth_idx) - recall_few_teeth_staging == 0, len(\n",
    "    interCAL_geq2_NA_tooth_idx\n",
    ")"
   ]
  },
  {
   "cell_type": "markdown",
   "metadata": {},
   "source": [
    "### Check for buccal or oral CAL ≥3 mm with pocketing ≥3 mm (at any site) is detectable at ≥2 teeth\n",
    "Except 36 special staging case no CAL measurement"
   ]
  },
  {
   "cell_type": "code",
   "execution_count": 8,
   "metadata": {},
   "outputs": [],
   "source": [
    "pattern = r\"maxCALbo\\d{2}$\"\n",
    "cols = data.columns[[bool(re.match(pattern, c)) for c in data.columns]]\n",
    "boCAL_geq2_NA_tooth = data[cols].copy()\n",
    "boCAL_geq2_NA_tooth.columns = [str(x[-2:]) for x in boCAL_geq2_NA_tooth.columns]\n",
    "boCAL_geq2_NA_tooth = boCAL_geq2_NA_tooth[[str(x) for x in fdi.full_dentition]]\n",
    "boCAL_geq2_NA_tooth_idx = less_than_two_non_adjacent_teeth(\n",
    "    boCAL_geq2_NA_tooth, fdi.full_dentition\n",
    ")\n",
    "assert len(boCAL_geq2_NA_tooth_idx) - recall_few_teeth_staging == 0, len(\n",
    "    boCAL_geq2_NA_tooth_idx\n",
    ")"
   ]
  },
  {
   "cell_type": "markdown",
   "metadata": {},
   "source": [
    "## Occluding pairs\n",
    "\n",
    "Staging can be modified by the number of missing teeth attributed to periodontitis or the presence of at least one complexity factor (maximum PD, having less than 10 opposing pairs) irrespective of maximum interdental CAL (Papapanou et al., 2018). "
   ]
  },
  {
   "cell_type": "code",
   "execution_count": 9,
   "metadata": {},
   "outputs": [],
   "source": [
    "pattern = r\"zb\\d{2}$\"\n",
    "cols = data.columns[[bool(re.match(pattern, c)) for c in data.columns]]\n",
    "occluding_pairs = data[cols].copy()\n",
    "occluding_pairs.columns = [str(x[-2:]) for x in occluding_pairs.columns]\n",
    "# occluding_pairs.head()"
   ]
  },
  {
   "cell_type": "code",
   "execution_count": 10,
   "metadata": {},
   "outputs": [
    {
     "data": {
      "text/plain": [
       "(927, 748)"
      ]
     },
     "execution_count": 10,
     "metadata": {},
     "output_type": "execute_result"
    }
   ],
   "source": [
    "data.shape"
   ]
  },
  {
   "cell_type": "code",
   "execution_count": 11,
   "metadata": {},
   "outputs": [],
   "source": [
    "# pd.melt(occluding_pairs)[\"value\"].unique()"
   ]
  },
  {
   "cell_type": "code",
   "execution_count": 12,
   "metadata": {},
   "outputs": [],
   "source": [
    "inclusion_criteria = [\n",
    "    \"Ohne Zahnbefund\",\n",
    "    \"Vollkrone\",\n",
    "    \"Ankerkrone\",\n",
    "    \"Ersetzter Zahn\",\n",
    "    # \"Fehlender, nicht ersetzter Zahn\",\n",
    "    \"Brückenglied\",\n",
    "    \"Implantat mit festsitzendem Zahnersatz\",\n",
    "    \"Implantat mit herausnehmbarem Zahnersatz\",\n",
    "    # \"Extrahiert, wegen Karies\",\n",
    "    \"Teilkrone (auch Veneer)\",\n",
    "]"
   ]
  },
  {
   "cell_type": "code",
   "execution_count": 13,
   "metadata": {},
   "outputs": [
    {
     "name": "stdout",
     "output_type": "stream",
     "text": [
      "927\n"
     ]
    },
    {
     "data": {
      "image/png": "[encoded data removed]",
      "text/plain": [
       "<Figure size 864x432 with 1 Axes>"
      ]
     },
     "metadata": {
      "needs_background": "light"
     },
     "output_type": "display_data"
    }
   ],
   "source": [
    "upper_bool = (\n",
    "    occluding_pairs[[str(x) for x in fdi.upper]].isin(inclusion_criteria)\n",
    ").rename(columns=dict(zip([str(x) for x in fdi.upper], range(len(fdi.upper)))))\n",
    "\n",
    "lower_bool = (\n",
    "    occluding_pairs[[str(x) for x in fdi.lower]].isin(inclusion_criteria)\n",
    ").rename(columns=dict(zip([str(x) for x in fdi.lower], range(len(fdi.lower)))))\n",
    "\n",
    "pairs_bool = upper_bool & lower_bool\n",
    "ax = (pairs_bool).sum(axis=1).value_counts().sort_index().plot.barh()\n",
    "for container in ax.containers:\n",
    "    ax.bar_label(container, size=15)\n",
    "ax.grid(axis=\"x\")\n",
    "print(data.shape[0])"
   ]
  },
  {
   "cell_type": "code",
   "execution_count": 14,
   "metadata": {},
   "outputs": [
    {
     "data": {
      "text/plain": [
       "(96, 749)"
      ]
     },
     "execution_count": 14,
     "metadata": {},
     "output_type": "execute_result"
    }
   ],
   "source": [
    "pairs_idx = pairs_bool.loc[pairs_bool.sum(axis=1) < 10].index\n",
    "occlusal_pair_case = data.loc[pairs_idx].copy()\n",
    "staged_patients[\"occlusal_pair_case\"] = occlusal_pair_case\n",
    "occlusal_pair_case[\"classification\"] = \"Stage_IV\"\n",
    "occlusal_pair_case.shape"
   ]
  },
  {
   "cell_type": "code",
   "execution_count": 15,
   "metadata": {},
   "outputs": [
    {
     "name": "stdout",
     "output_type": "stream",
     "text": [
      "927\n",
      "831\n"
     ]
    }
   ],
   "source": [
    "print(data.shape[0])\n",
    "try:\n",
    "    data = data.drop(occlusal_pair_case.index)\n",
    "except:\n",
    "    pass\n",
    "print(data.shape[0])"
   ]
  },
  {
   "cell_type": "markdown",
   "metadata": {},
   "source": [
    "> ### Excurse _What if we would consider all MT as being lost due to periodontitis?_ (see Step 2a - Staging (with `MT`))"
   ]
  },
  {
   "cell_type": "code",
   "execution_count": 16,
   "metadata": {},
   "outputs": [
    {
     "data": {
      "image/png": "[encoded data removed]",
      "text/plain": [
       "<Figure size 864x432 with 1 Axes>"
      ]
     },
     "metadata": {
      "needs_background": "light"
     },
     "output_type": "display_data"
    }
   ],
   "source": [
    "mt = (28 - data[\"zahnzahl\"]).astype(int)\n",
    "ax = mt.value_counts().sort_index().plot.bar(rot=45)\n",
    "ax.grid(axis=\"y\")"
   ]
  },
  {
   "cell_type": "markdown",
   "metadata": {},
   "source": [
    "#### `occlusal pairs < 10 & mt > 4`"
   ]
  },
  {
   "cell_type": "code",
   "execution_count": 17,
   "metadata": {},
   "outputs": [
    {
     "data": {
      "text/plain": [
       "680"
      ]
     },
     "execution_count": 17,
     "metadata": {},
     "output_type": "execute_result"
    }
   ],
   "source": [
    "len(set(list(mt[mt > 4].index) + list(occlusal_pair_case.index)))"
   ]
  },
  {
   "cell_type": "markdown",
   "metadata": {},
   "source": [
    "> Such an apporach would result in a very large number of participant to be assigned to `Stage IV` right away."
   ]
  },
  {
   "cell_type": "markdown",
   "metadata": {},
   "source": [
    "### `Maximum interdental CAL ≥5 mm`"
   ]
  },
  {
   "cell_type": "code",
   "execution_count": 18,
   "metadata": {},
   "outputs": [],
   "source": [
    "cond_geq5 = data[[\"maxCALappr\"]].max(axis=1) >= 5"
   ]
  },
  {
   "cell_type": "code",
   "execution_count": 19,
   "metadata": {},
   "outputs": [],
   "source": [
    "maxCAL_geq5_case = data.loc[cond_geq5].copy()\n",
    "staged_patients[\"maxCAL_geq5_case\"] = maxCAL_geq5_case\n",
    "maxCAL_geq5_case[\"classification\"] = \"Stage_IV\""
   ]
  },
  {
   "cell_type": "code",
   "execution_count": 20,
   "metadata": {},
   "outputs": [],
   "source": [
    "pattern = r\"maxCALappr|\\d{2}\"\n",
    "cols = maxCAL_geq5_case.columns[\n",
    "    [bool(re.match(pattern, c)) for c in maxCAL_geq5_case.columns]\n",
    "]\n",
    "maxCAL_geq5_case[\"affected_teeth\"] = (maxCAL_geq5_case[cols] >= 5).sum(axis=1)"
   ]
  },
  {
   "cell_type": "code",
   "execution_count": 21,
   "metadata": {},
   "outputs": [
    {
     "name": "stdout",
     "output_type": "stream",
     "text": [
      "592\n"
     ]
    },
    {
     "data": {
      "image/png": "[encoded data removed]",
      "text/plain": [
       "<Figure size 864x432 with 1 Axes>"
      ]
     },
     "metadata": {
      "needs_background": "light"
     },
     "output_type": "display_data"
    }
   ],
   "source": [
    "ax = maxCAL_geq5_case[\"classification\"].value_counts().sort_index().plot.barh()\n",
    "for container in ax.containers:\n",
    "    ax.bar_label(container, size=15)\n",
    "ax.grid(axis=\"x\")\n",
    "print(maxCAL_geq5_case.shape[0])"
   ]
  },
  {
   "cell_type": "code",
   "execution_count": 22,
   "metadata": {},
   "outputs": [
    {
     "name": "stdout",
     "output_type": "stream",
     "text": [
      "831\n",
      "239\n"
     ]
    }
   ],
   "source": [
    "print(data.shape[0])\n",
    "try:\n",
    "    data = data.drop(maxCAL_geq5_case.index)\n",
    "except:\n",
    "    pass\n",
    "print(data.shape[0])"
   ]
  },
  {
   "cell_type": "markdown",
   "metadata": {},
   "source": [
    "### `Maximum interdental CAL 3-4 mm`"
   ]
  },
  {
   "cell_type": "code",
   "execution_count": 23,
   "metadata": {},
   "outputs": [],
   "source": [
    "cond_3to4mm = (data[[\"maxCALappr\"]].max(axis=1) >= 3) & (\n",
    "    data[[\"maxCALappr\"]].max(axis=1) <= 4\n",
    ")"
   ]
  },
  {
   "cell_type": "code",
   "execution_count": 24,
   "metadata": {},
   "outputs": [
    {
     "data": {
      "text/plain": [
       "(149, 748)"
      ]
     },
     "execution_count": 24,
     "metadata": {},
     "output_type": "execute_result"
    }
   ],
   "source": [
    "cond_3to4mm_case = data.loc[cond_3to4mm].copy()\n",
    "cond_3to4mm_case.shape"
   ]
  },
  {
   "cell_type": "code",
   "execution_count": 25,
   "metadata": {},
   "outputs": [],
   "source": [
    "pattern = r\"st\\d{2}\\w{4}$\"\n",
    "cols = cond_3to4mm_case.columns[\n",
    "    [bool(re.match(pattern, c)) for c in cond_3to4mm_case.columns]\n",
    "]\n",
    "cond_PD_leq5 = cond_3to4mm_case[cols].max(axis=1) <= 5  # II\n",
    "cond_PD_geq6 = cond_3to4mm_case[cols].max(axis=1) >= 6  # III"
   ]
  },
  {
   "cell_type": "code",
   "execution_count": 26,
   "metadata": {},
   "outputs": [],
   "source": [
    "# cond_3to4mm_case\n",
    "cond_3to4mm_case.loc[cond_PD_geq6, \"classification\"] = \"Stage_III\"\n",
    "cond_3to4mm_case.loc[cond_PD_leq5, \"classification\"] = \"Stage_II\"\n",
    "staged_patients[\"cond_3to4mm_case\"] = cond_3to4mm_case"
   ]
  },
  {
   "cell_type": "code",
   "execution_count": 27,
   "metadata": {},
   "outputs": [],
   "source": [
    "pattern = r\"maxCALappr|\\d{2}\"\n",
    "cols = cond_3to4mm_case.columns[\n",
    "    [bool(re.match(pattern, c)) for c in cond_3to4mm_case.columns]\n",
    "]\n",
    "cond_3to4mm_case[\"affected_teeth\"] = (\n",
    "    (cond_3to4mm_case[cols] >= 3) & (cond_3to4mm_case[cols] <= 4)\n",
    ").sum(axis=1)"
   ]
  },
  {
   "cell_type": "code",
   "execution_count": 28,
   "metadata": {},
   "outputs": [
    {
     "name": "stdout",
     "output_type": "stream",
     "text": [
      "149\n"
     ]
    },
    {
     "data": {
      "image/png": "[encoded data removed]",
      "text/plain": [
       "<Figure size 864x432 with 1 Axes>"
      ]
     },
     "metadata": {
      "needs_background": "light"
     },
     "output_type": "display_data"
    }
   ],
   "source": [
    "ax = cond_3to4mm_case[\"classification\"].value_counts().sort_index().plot.barh()\n",
    "for container in ax.containers:\n",
    "    ax.bar_label(container, size=15)\n",
    "ax.grid(axis=\"x\")\n",
    "print(cond_3to4mm_case.shape[0])"
   ]
  },
  {
   "cell_type": "code",
   "execution_count": 29,
   "metadata": {},
   "outputs": [
    {
     "name": "stdout",
     "output_type": "stream",
     "text": [
      "239\n",
      "90\n"
     ]
    }
   ],
   "source": [
    "print(data.shape[0])\n",
    "try:\n",
    "    data = data.drop(cond_3to4mm_case.index)\n",
    "except:\n",
    "    pass\n",
    "print(data.shape[0])"
   ]
  },
  {
   "cell_type": "markdown",
   "metadata": {},
   "source": [
    "### `Maximum interdental CAL 1-2 mm`"
   ]
  },
  {
   "cell_type": "code",
   "execution_count": 30,
   "metadata": {},
   "outputs": [],
   "source": [
    "cond_1to2mm = (data[[\"maxCALappr\"]].max(axis=1) >= 1) & (\n",
    "    data[[\"maxCALappr\"]].max(axis=1) <= 2\n",
    ")"
   ]
  },
  {
   "cell_type": "code",
   "execution_count": 31,
   "metadata": {},
   "outputs": [
    {
     "data": {
      "text/plain": [
       "(4, 748)"
      ]
     },
     "execution_count": 31,
     "metadata": {},
     "output_type": "execute_result"
    }
   ],
   "source": [
    "cond_1to2mm_case = data.loc[cond_1to2mm].copy()\n",
    "cond_1to2mm_case.shape"
   ]
  },
  {
   "cell_type": "code",
   "execution_count": 32,
   "metadata": {},
   "outputs": [],
   "source": [
    "pattern = r\"st\\d{2}\\w{4}$\"\n",
    "cols = cond_1to2mm_case.columns[\n",
    "    [bool(re.match(pattern, c)) for c in cond_1to2mm_case.columns]\n",
    "]\n",
    "cond_PD_leq4 = cond_1to2mm_case[cols].max(axis=1) <= 4  # I\n",
    "cond_PD_eq5 = cond_1to2mm_case[cols].max(axis=1) == 5  # II\n",
    "cond_PD_geq6 = cond_1to2mm_case[cols].max(axis=1) >= 6  # III"
   ]
  },
  {
   "cell_type": "code",
   "execution_count": 33,
   "metadata": {},
   "outputs": [],
   "source": [
    "cond_1to2mm_case.loc[cond_PD_leq4, \"classification\"] = \"Stage_I\"\n",
    "cond_1to2mm_case.loc[cond_PD_eq5, \"classification\"] = \"Stage_II\"\n",
    "cond_1to2mm_case.loc[cond_PD_geq6, \"classification\"] = \"Stage_III\"\n",
    "\n",
    "staged_patients[\"cond_1to2mm_case\"] = cond_1to2mm_case"
   ]
  },
  {
   "cell_type": "code",
   "execution_count": 34,
   "metadata": {},
   "outputs": [],
   "source": [
    "pattern = r\"maxCALappr|\\d{2}\"\n",
    "cols = cond_1to2mm_case.columns[\n",
    "    [bool(re.match(pattern, c)) for c in cond_1to2mm_case.columns]\n",
    "]\n",
    "cond_1to2mm_case[\"affected_teeth\"] = (\n",
    "    (cond_1to2mm_case[cols] >= 1) & (cond_1to2mm_case[cols] <= 2)\n",
    ").sum(axis=1)"
   ]
  },
  {
   "cell_type": "code",
   "execution_count": 35,
   "metadata": {},
   "outputs": [
    {
     "name": "stdout",
     "output_type": "stream",
     "text": [
      "4\n"
     ]
    },
    {
     "data": {
      "image/png": "[encoded data removed]",
      "text/plain": [
       "<Figure size 864x432 with 1 Axes>"
      ]
     },
     "metadata": {
      "needs_background": "light"
     },
     "output_type": "display_data"
    }
   ],
   "source": [
    "ax = cond_1to2mm_case[\"classification\"].value_counts().sort_index().plot.barh()\n",
    "for container in ax.containers:\n",
    "    ax.bar_label(container, size=15)\n",
    "ax.grid(axis=\"x\")\n",
    "print(cond_1to2mm_case.shape[0])"
   ]
  },
  {
   "cell_type": "code",
   "execution_count": 36,
   "metadata": {},
   "outputs": [
    {
     "name": "stdout",
     "output_type": "stream",
     "text": [
      "90\n",
      "86\n"
     ]
    }
   ],
   "source": [
    "print(data.shape[0])\n",
    "try:\n",
    "    data = data.drop(cond_1to2mm_case.index)\n",
    "except:\n",
    "    pass\n",
    "print(data.shape[0])"
   ]
  },
  {
   "cell_type": "markdown",
   "metadata": {},
   "source": [
    "### `No interdental CAL measurements`"
   ]
  },
  {
   "cell_type": "code",
   "execution_count": 37,
   "metadata": {},
   "outputs": [
    {
     "data": {
      "text/plain": [
       "(2, 748)"
      ]
     },
     "execution_count": 37,
     "metadata": {},
     "output_type": "execute_result"
    }
   ],
   "source": [
    "cond_0mm = data[[\"maxCALappr\"]].max(axis=1) == 0\n",
    "cond_0mm_case = data.loc[cond_0mm].copy()\n",
    "cond_0mm_case.shape"
   ]
  },
  {
   "cell_type": "code",
   "execution_count": 38,
   "metadata": {},
   "outputs": [],
   "source": [
    "pattern = r\"st\\d{2}\\w{4}$\"\n",
    "cols = cond_0mm_case.columns[\n",
    "    [bool(re.match(pattern, c)) for c in cond_0mm_case.columns]\n",
    "]\n",
    "cond_PD_leq4 = cond_0mm_case[cols].max(axis=1) <= 4  # I\n",
    "cond_PD_eq5 = cond_0mm_case[cols].max(axis=1) == 5  # II\n",
    "cond_PD_geq6 = cond_0mm_case[cols].max(axis=1) >= 6  # III"
   ]
  },
  {
   "cell_type": "code",
   "execution_count": 39,
   "metadata": {},
   "outputs": [],
   "source": [
    "cond_0mm_case.loc[cond_PD_leq4, \"classification\"] = \"Stage_I\"\n",
    "cond_0mm_case.loc[cond_PD_eq5, \"classification\"] = \"Stage_II\"\n",
    "cond_0mm_case.loc[cond_PD_geq6, \"classification\"] = \"Stage_III\"\n",
    "\n",
    "staged_patients[\"cond_0mm_case\"] = cond_0mm_case"
   ]
  },
  {
   "cell_type": "code",
   "execution_count": 40,
   "metadata": {},
   "outputs": [],
   "source": [
    "pattern = r\"maxCALappr|\\d{2}\"\n",
    "cols = cond_0mm_case.columns[\n",
    "    [bool(re.match(pattern, c)) for c in cond_0mm_case.columns]\n",
    "]\n",
    "cond_0mm_case[\"affected_teeth\"] = 0"
   ]
  },
  {
   "cell_type": "code",
   "execution_count": 41,
   "metadata": {},
   "outputs": [
    {
     "name": "stdout",
     "output_type": "stream",
     "text": [
      "2\n"
     ]
    },
    {
     "data": {
      "image/png": "[encoded data removed]",
      "text/plain": [
       "<Figure size 864x432 with 1 Axes>"
      ]
     },
     "metadata": {
      "needs_background": "light"
     },
     "output_type": "display_data"
    }
   ],
   "source": [
    "ax = cond_0mm_case[\"classification\"].value_counts().sort_index().plot.barh()\n",
    "for container in ax.containers:\n",
    "    ax.bar_label(container, size=15)\n",
    "ax.grid(axis=\"x\")\n",
    "print(cond_0mm_case.shape[0])"
   ]
  },
  {
   "cell_type": "code",
   "execution_count": 42,
   "metadata": {},
   "outputs": [
    {
     "name": "stdout",
     "output_type": "stream",
     "text": [
      "86\n",
      "84\n"
     ]
    }
   ],
   "source": [
    "print(data.shape[0])\n",
    "try:\n",
    "    data = data.drop(cond_0mm_case.index)\n",
    "except:\n",
    "    pass\n",
    "print(data.shape[0])"
   ]
  },
  {
   "cell_type": "markdown",
   "metadata": {},
   "source": [
    "### Leftover due to no CAL measurements"
   ]
  },
  {
   "cell_type": "code",
   "execution_count": 43,
   "metadata": {},
   "outputs": [
    {
     "data": {
      "text/plain": [
       "(84, 748)"
      ]
     },
     "execution_count": 43,
     "metadata": {},
     "output_type": "execute_result"
    }
   ],
   "source": [
    "cond_noCAL_case = data.copy()\n",
    "cond_noCAL_case.shape"
   ]
  },
  {
   "cell_type": "code",
   "execution_count": 44,
   "metadata": {},
   "outputs": [],
   "source": [
    "pattern = r\"st\\d{2}\\w{4}$\"\n",
    "cols = cond_noCAL_case.columns[\n",
    "    [bool(re.match(pattern, c)) for c in cond_noCAL_case.columns]\n",
    "]\n",
    "cond_PD_leq4 = cond_noCAL_case[cols].max(axis=1) <= 4  # I\n",
    "cond_PD_eq5 = cond_noCAL_case[cols].max(axis=1) == 5  # II\n",
    "cond_PD_geq6 = cond_noCAL_case[cols].max(axis=1) >= 6  # III"
   ]
  },
  {
   "cell_type": "code",
   "execution_count": 45,
   "metadata": {},
   "outputs": [],
   "source": [
    "cond_noCAL_case.loc[cond_PD_leq4, \"classification\"] = \"Stage_I\"\n",
    "cond_noCAL_case.loc[cond_PD_eq5, \"classification\"] = \"Stage_II\"\n",
    "cond_noCAL_case.loc[cond_PD_geq6, \"classification\"] = \"Stage_III\"\n",
    "\n",
    "staged_patients[\"noCAL_case\"] = cond_noCAL_case"
   ]
  },
  {
   "cell_type": "code",
   "execution_count": 46,
   "metadata": {},
   "outputs": [
    {
     "name": "stdout",
     "output_type": "stream",
     "text": [
      "84\n"
     ]
    },
    {
     "data": {
      "image/png": "[encoded data removed]",
      "text/plain": [
       "<Figure size 864x432 with 1 Axes>"
      ]
     },
     "metadata": {
      "needs_background": "light"
     },
     "output_type": "display_data"
    }
   ],
   "source": [
    "ax = cond_noCAL_case[\"classification\"].value_counts().sort_index().plot.barh()\n",
    "for container in ax.containers:\n",
    "    ax.bar_label(container, size=15)\n",
    "ax.grid(axis=\"x\")\n",
    "print(cond_noCAL_case.shape[0])"
   ]
  },
  {
   "cell_type": "markdown",
   "metadata": {},
   "source": [
    "## Save to disk"
   ]
  },
  {
   "cell_type": "code",
   "execution_count": 47,
   "metadata": {},
   "outputs": [],
   "source": [
    "fn = \"dmsV_staged_periodontitis_cases.parquet\"\n",
    "fp = DATA.joinpath(\"processed\", fn)\n",
    "\n",
    "_staged_patients = []\n",
    "for _, v in staged_patients.items():\n",
    "    _staged_patients.append(v)\n",
    "_staged_patients = pd.concat(_staged_patients)\n",
    "_staged_patients.to_parquet(fp)\n",
    "assert fp.exists(), fp"
   ]
  },
  {
   "cell_type": "markdown",
   "metadata": {},
   "source": [
    "### Save dict"
   ]
  },
  {
   "cell_type": "code",
   "execution_count": 48,
   "metadata": {},
   "outputs": [],
   "source": [
    "out = staged_patients"
   ]
  },
  {
   "cell_type": "markdown",
   "metadata": {},
   "source": [
    "***"
   ]
  }
 ],
 "metadata": {
  "kernelspec": {
   "display_name": "Python 3 (ipykernel)",
   "language": "python",
   "name": "python3"
  },
  "language_info": {
   "codemirror_mode": {
    "name": "ipython",
    "version": 3
   },
   "file_extension": ".py",
   "mimetype": "text/x-python",
   "name": "python",
   "nbconvert_exporter": "python",
   "pygments_lexer": "ipython3",
   "version": "3.9.7"
  }
 },
 "nbformat": 4,
 "nbformat_minor": 4
}
