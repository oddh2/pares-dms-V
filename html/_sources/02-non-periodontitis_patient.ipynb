{
 "cells": [
  {
   "cell_type": "markdown",
   "metadata": {},
   "source": [
    "# Special cases and non-periodontitis patient"
   ]
  },
  {
   "cell_type": "code",
   "execution_count": 1,
   "metadata": {
    "tags": []
   },
   "outputs": [
    {
     "name": "stdout",
     "output_type": "stream",
     "text": [
      "\n",
      "---------------------------------\n",
      "Working on the host: Joachims-MacBook-Pro.local\n",
      "\n",
      "---------------------------------\n",
      "Python version: 3.9.7 (default, Sep 16 2021, 08:50:36) \n",
      "[Clang 10.0.0 ]\n",
      "\n",
      "---------------------------------\n",
      "Python interpreter: /opt/miniconda3/envs/idz-parostatus/bin/python\n",
      "\n",
      "---------------------------------\n",
      "Root (ROOT) directory is set to /Users/jokr/Documents/Projekte_Extern/IDZ/DMS-V-ParoStatus\n",
      "---------------------------------\n",
      "data (DATA) directory is set to /Users/jokr/Documents/Projekte_Extern/IDZ/DMS-V-ParoStatus/data\n",
      "---------------------------------\n",
      "Attaching the following source folders:\n",
      "/Users/jokr/Documents/Projekte_Extern/IDZ/DMS-V-ParoStatus/src\n"
     ]
    }
   ],
   "source": [
    "%matplotlib inline\n",
    "# Load the \"autoreload\" extension\n",
    "%load_ext autoreload\n",
    "# always reload modules\n",
    "%autoreload 2\n",
    "# black formatter for jupyter notebooks\n",
    "#%load_ext nb_black\n",
    "# black formatter f|or jupyter lab\n",
    "%load_ext lab_black\n",
    "\n",
    "%run ../src/notebook_env.py"
   ]
  },
  {
   "cell_type": "markdown",
   "metadata": {},
   "source": [
    "**Import modules**"
   ]
  },
  {
   "cell_type": "code",
   "execution_count": 2,
   "metadata": {},
   "outputs": [],
   "source": [
    "import numpy as np\n",
    "import pandas as pd\n",
    "import matplotlib.pyplot as plt\n",
    "import re"
   ]
  },
  {
   "cell_type": "markdown",
   "metadata": {
    "tags": []
   },
   "source": [
    "## Load cohort dataset"
   ]
  },
  {
   "cell_type": "code",
   "execution_count": 3,
   "metadata": {},
   "outputs": [
    {
     "data": {
      "text/plain": [
       "(980, 748)"
      ]
     },
     "execution_count": 3,
     "metadata": {},
     "output_type": "execute_result"
    }
   ],
   "source": [
    "fp = DATA.joinpath(\"processed\")\n",
    "fn = \"dmsV_cohort.parquet\"\n",
    "file = fp.joinpath(fn)\n",
    "assert file.exists()\n",
    "\n",
    "data = pd.read_parquet(file)\n",
    "data.shape"
   ]
  },
  {
   "cell_type": "markdown",
   "metadata": {},
   "source": [
    "## The Periodontitis case"
   ]
  },
  {
   "cell_type": "markdown",
   "metadata": {},
   "source": [
    "<img src=../_img/paro_case.png>"
   ]
  },
  {
   "cell_type": "markdown",
   "metadata": {},
   "source": [
    "## Special Cases"
   ]
  },
  {
   "cell_type": "code",
   "execution_count": 4,
   "metadata": {},
   "outputs": [],
   "source": [
    "staged_patients = {}"
   ]
  },
  {
   "cell_type": "markdown",
   "metadata": {},
   "source": [
    "## Too few permanent teeth\n",
    "Less than 2 non-adjacent teeth with interdental CAL measurements (interdental CAL measurement present either on one tooth or on two adjacent teeth) or less than 2 teeth with buccal or oral CAL measurements, but maximum CAL non-missing. In this case the periodontitis case criterion was not assessible (due to the presence of only one tooth with CAL measurements; no non-adjacent tooth with CAL measurement available).\n"
   ]
  },
  {
   "cell_type": "code",
   "execution_count": 5,
   "metadata": {},
   "outputs": [],
   "source": [
    "from util import less_than_two_non_adjacent_teeth, FdiNomenclaure\n",
    "\n",
    "fdi = FdiNomenclaure()"
   ]
  },
  {
   "cell_type": "code",
   "execution_count": 6,
   "metadata": {},
   "outputs": [],
   "source": [
    "pattern = r\"maxCALbo\\d{2}$\"\n",
    "cols = data.columns[[bool(re.match(pattern, c)) for c in data.columns]]\n",
    "boCAL_geq2_NA_tooth = data[cols].copy()\n",
    "boCAL_geq2_NA_tooth.columns = [str(x[-2:]) for x in boCAL_geq2_NA_tooth.columns]\n",
    "boCAL_geq2_NA_tooth = boCAL_geq2_NA_tooth[[str(x) for x in fdi.full_dentition]]\n",
    "boCAL_geq2_NA_tooth_idx = less_than_two_non_adjacent_teeth(\n",
    "    boCAL_geq2_NA_tooth, fdi.full_dentition\n",
    ")\n",
    "# boCAL_geq2_NA_tooth_idx"
   ]
  },
  {
   "cell_type": "code",
   "execution_count": 7,
   "metadata": {},
   "outputs": [],
   "source": [
    "pattern = r\"maxCALappr\\d{2}$\"\n",
    "cols = data.columns[[bool(re.match(pattern, c)) for c in data.columns]]\n",
    "interCAL_geq2_NA_tooth = data[cols].copy()\n",
    "interCAL_geq2_NA_tooth.columns = [str(x[-2:]) for x in interCAL_geq2_NA_tooth.columns]\n",
    "interCAL_geq2_NA_tooth = interCAL_geq2_NA_tooth[[str(x) for x in fdi.full_dentition]]\n",
    "interCAL_geq2_NA_tooth_idx = less_than_two_non_adjacent_teeth(\n",
    "    interCAL_geq2_NA_tooth, fdi.full_dentition\n",
    ")\n",
    "# interCAL_geq2_NA_tooth_idx"
   ]
  },
  {
   "cell_type": "code",
   "execution_count": 8,
   "metadata": {},
   "outputs": [
    {
     "data": {
      "text/plain": [
       "(51, 748)"
      ]
     },
     "execution_count": 8,
     "metadata": {},
     "output_type": "execute_result"
    }
   ],
   "source": [
    "idx = set(list(boCAL_geq2_NA_tooth_idx) + list(interCAL_geq2_NA_tooth_idx))\n",
    "too_few_teeth = data.loc[idx]\n",
    "too_few_teeth.shape"
   ]
  },
  {
   "cell_type": "markdown",
   "metadata": {},
   "source": [
    "If maximum CAL is ≥1 mm and maximum PD is ≤3 mm, participants are categorized as having either a ”reduced but healthy periodontium in a non-periodontitis patient” (BOP<10%) or “gingivitis on a reduced periodontium in a non-periodontitis patient” (see Figure 1) (BOP≥10%) (Chapple et al., 2018)."
   ]
  },
  {
   "cell_type": "code",
   "execution_count": 9,
   "metadata": {},
   "outputs": [],
   "source": [
    "cond_CAL_geq1 = too_few_teeth[[\"maxCALappr\", \"maxCALbo\"]].max(axis=1) >= 1\n",
    "pattern = r\"st\\d{2}\\w{4}$\"\n",
    "cols = too_few_teeth.columns[[bool(re.match(pattern, c)) for c in data.columns]]\n",
    "cond_PD_leq3 = too_few_teeth[cols].max(axis=1) <= 3"
   ]
  },
  {
   "cell_type": "code",
   "execution_count": 10,
   "metadata": {},
   "outputs": [
    {
     "data": {
      "text/plain": [
       "15"
      ]
     },
     "execution_count": 10,
     "metadata": {},
     "output_type": "execute_result"
    }
   ],
   "source": [
    "few_teeth_case = too_few_teeth.loc[cond_CAL_geq1 & cond_PD_leq3].copy()\n",
    "few_teeth_case.shape[0]"
   ]
  },
  {
   "cell_type": "code",
   "execution_count": 11,
   "metadata": {},
   "outputs": [],
   "source": [
    "lookup = {\n",
    "    \"< 10 % bleeding sites\": \"reduced but healthy periodontium in a non-periodontitis patient\",\n",
    "    \"10-30 % bleeding sites\": \"gingivitis on a reduced periodontium in a non-periodontitis patient\",\n",
    "    \"> 30 % bleeding sites\": \"gingivitis on a reduced periodontium in a non-periodontitis patient\",\n",
    "}\n",
    "few_teeth_case[\"classification\"] = few_teeth_case[\"bop_cat\"].apply(\n",
    "    lambda x: lookup.get(x, np.nan)\n",
    ")"
   ]
  },
  {
   "cell_type": "markdown",
   "metadata": {},
   "source": [
    "Participants are identified as periodontitis cases, if maximum CAL is ≥1 mm and maximum PD is ≥4 mm. "
   ]
  },
  {
   "cell_type": "code",
   "execution_count": 12,
   "metadata": {},
   "outputs": [],
   "source": [
    "cond_CAL_geq1 = too_few_teeth[[\"maxCALappr\", \"maxCALbo\"]].max(axis=1) >= 1\n",
    "pattern = r\"st\\d{2}\\w{4}$\"\n",
    "cols = too_few_teeth.columns[[bool(re.match(pattern, c)) for c in data.columns]]\n",
    "cond_PD_geq4 = too_few_teeth[cols].max(axis=1) >= 4"
   ]
  },
  {
   "cell_type": "code",
   "execution_count": 13,
   "metadata": {},
   "outputs": [
    {
     "data": {
      "text/plain": [
       "36"
      ]
     },
     "execution_count": 13,
     "metadata": {},
     "output_type": "execute_result"
    }
   ],
   "source": [
    "few_teeth_staging = too_few_teeth.loc[cond_CAL_geq1 & cond_PD_geq4].copy()\n",
    "staged_patients[\"few_teeth_staging\"] = few_teeth_staging\n",
    "few_teeth_staging.shape[0]"
   ]
  },
  {
   "cell_type": "code",
   "execution_count": 14,
   "metadata": {},
   "outputs": [
    {
     "name": "stdout",
     "output_type": "stream",
     "text": [
      "980\n",
      "929\n"
     ]
    }
   ],
   "source": [
    "print(data.shape[0])\n",
    "try:\n",
    "    data = data.drop(few_teeth_case.index)\n",
    "    data = data.drop(few_teeth_staging.index)\n",
    "except:\n",
    "    pass\n",
    "print(data.shape[0])"
   ]
  },
  {
   "cell_type": "markdown",
   "metadata": {
    "tags": []
   },
   "source": [
    "### No CAL measurements\n",
    "\n",
    "If maximum PD is ≤3 mm, gingivitis criteria are screened and the participant is categorized as having a ”reduced but healthy periodontium in a non-periodontitis patient” (BOP<10%) or a “gingivitis on a reduced periodontium in a non-periodontitis patient” (BOP≥10%) (Chapple et al., 2018). \n",
    "\n",
    "If maximum PD is ≥4 mm, the participant is identified as a periodontitis case and is classified according to the staging criteria (Papapanou et al., 2018).\n"
   ]
  },
  {
   "cell_type": "code",
   "execution_count": 15,
   "metadata": {},
   "outputs": [
    {
     "data": {
      "text/plain": [
       "(122, 748)"
      ]
     },
     "execution_count": 15,
     "metadata": {},
     "output_type": "execute_result"
    }
   ],
   "source": [
    "no_CAL = data.loc[data[\"maxCALappr\"].isnull()]\n",
    "no_CAL.shape"
   ]
  },
  {
   "cell_type": "code",
   "execution_count": 16,
   "metadata": {},
   "outputs": [],
   "source": [
    "pattern = r\"st\\d{2}\\w{4}$\"\n",
    "cols = no_CAL.columns[[bool(re.match(pattern, c)) for c in no_CAL.columns]]\n",
    "cond_PD_leq3 = no_CAL[cols].max(axis=1) <= 3\n",
    "no_CAL_gingivitis_case = no_CAL[cond_PD_leq3].copy()\n",
    "no_CAL_gingivitis_case.shape\n",
    "\n",
    "lookup = {\n",
    "    \"< 10 % bleeding sites\": \"reduced but healthy periodontium in a non-periodontitis patient\",\n",
    "    \"10-30 % bleeding sites\": \"gingivitis on a reduced periodontium in a non-periodontitis patient\",\n",
    "    \"> 30 % bleeding sites\": \"gingivitis on a reduced periodontium in a non-periodontitis patient\",\n",
    "}\n",
    "no_CAL_gingivitis_case[\"classification\"] = no_CAL_gingivitis_case[\"bop_cat\"].apply(\n",
    "    lambda x: lookup.get(x, np.nan)\n",
    ")"
   ]
  },
  {
   "cell_type": "code",
   "execution_count": 17,
   "metadata": {},
   "outputs": [
    {
     "data": {
      "text/plain": [
       "(90, 748)"
      ]
     },
     "execution_count": 17,
     "metadata": {},
     "output_type": "execute_result"
    }
   ],
   "source": [
    "no_CAL_staging_case = no_CAL[~cond_PD_leq3]\n",
    "staged_patients[\"no_CAL_staging_case\"] = no_CAL_staging_case\n",
    "no_CAL_staging_case.shape"
   ]
  },
  {
   "cell_type": "code",
   "execution_count": 18,
   "metadata": {},
   "outputs": [
    {
     "name": "stdout",
     "output_type": "stream",
     "text": [
      "929\n",
      "807\n"
     ]
    }
   ],
   "source": [
    "print(data.shape[0])\n",
    "try:\n",
    "    data = data.drop(no_CAL_gingivitis_case.index)\n",
    "    data = data.drop(no_CAL_staging_case.index)\n",
    "except:\n",
    "    pass\n",
    "print(data.shape[0])"
   ]
  },
  {
   "cell_type": "markdown",
   "metadata": {
    "tags": []
   },
   "source": [
    "### Participants with a self-reported history of periodontal treatment\n",
    "\n",
    "Although Chapple et al. (2018) proposed that “a periodontitis case cannot simultaneously be defined as a gingivitis case” and therefore, “a patient with a history of periodontitis, with gingival inflammation is still a periodontitis case”, designation as a periodontitis case is complicated by the fact, that participants might present post-treatment maximum PDs of ≤3 mm and that the a priori treatment status is usually unknown. Furthermore, it is probable that self-report of periodontal treatment underlies reporting bias, confusing professional dental cleaning with periodontal treatment. To reflect these insecurities, available periodontal data should be considered when classifying a participant with self-reported periodontal treatment."
   ]
  },
  {
   "cell_type": "code",
   "execution_count": 19,
   "metadata": {},
   "outputs": [
    {
     "data": {
      "text/plain": [
       "30"
      ]
     },
     "execution_count": 19,
     "metadata": {},
     "output_type": "execute_result"
    }
   ],
   "source": [
    "parobeh = data.loc[data[\"parobeh\"] == \"Ja\"]\n",
    "parobeh.shape[0]"
   ]
  },
  {
   "cell_type": "markdown",
   "metadata": {},
   "source": [
    "Thus, we propose the following distinction. If maximum CAL is equal to zero and maximum PD is ≤3 mm, participants are classified according to the gingivitis scheme (Chapple et al., 2018).  They are further classified as having “periodontal health” (BOP<10%), “localized gingivitis” (BOP 10—30%), or “generalized gingivitis” (BOP>30%). In these situations, it can be assumed that (self-reported) periodontal treatment either presents some form of overtreatment (as the assumed post-treatment maximum CAL is equal to zero) or was subject to reporting bias."
   ]
  },
  {
   "cell_type": "code",
   "execution_count": 20,
   "metadata": {},
   "outputs": [],
   "source": [
    "cond_CAL0 = parobeh[[\"maxCALappr\", \"maxCALbo\"]].max(axis=1) == 0\n",
    "pattern = r\"st\\d{2}\\w{4}$\"\n",
    "cols = data.columns[[bool(re.match(pattern, c)) for c in data.columns]]\n",
    "cond_PD_leq3 = parobeh[cols].max(axis=1) <= 3"
   ]
  },
  {
   "cell_type": "code",
   "execution_count": 21,
   "metadata": {},
   "outputs": [
    {
     "data": {
      "text/plain": [
       "0"
      ]
     },
     "execution_count": 21,
     "metadata": {},
     "output_type": "execute_result"
    }
   ],
   "source": [
    "parobeh_gingivitis_case = parobeh.loc[cond_CAL0 & cond_PD_leq3].copy()\n",
    "parobeh_gingivitis_case.shape[0]"
   ]
  },
  {
   "cell_type": "code",
   "execution_count": 22,
   "metadata": {},
   "outputs": [],
   "source": [
    "lookup = {\n",
    "    \"< 10 % bleeding sites\": \"periodontal health\",\n",
    "    \"10-30 % bleeding sites\": \"localized gingivitis\",\n",
    "    \"> 30 % bleeding sites\": \"generalized gingivitis\",\n",
    "}\n",
    "parobeh_gingivitis_case[\"classification\"] = parobeh_gingivitis_case[\"bop_cat\"].apply(\n",
    "    lambda x: lookup.get(x, np.nan)\n",
    ")"
   ]
  },
  {
   "cell_type": "code",
   "execution_count": 23,
   "metadata": {},
   "outputs": [
    {
     "data": {
      "text/plain": [
       "(0, 749)"
      ]
     },
     "execution_count": 23,
     "metadata": {},
     "output_type": "execute_result"
    }
   ],
   "source": [
    "parobeh_gingivitis_case.shape"
   ]
  },
  {
   "cell_type": "markdown",
   "metadata": {},
   "source": [
    "If maximum CAL is equal to zero and maximum PD is ≥4 mm, “Hyperplasia” was assigned. In this situation, again, it can be assumed that (self-reported) periodontal treatment either presents some form of overtreatment (as the assumed post-treatment maximum CAL is equal to zero) or was subject to reporting bias."
   ]
  },
  {
   "cell_type": "code",
   "execution_count": 24,
   "metadata": {},
   "outputs": [],
   "source": [
    "cond_CAL0 = parobeh[[\"maxCALappr\", \"maxCALbo\"]].max(axis=1) == 0\n",
    "pattern = r\"st\\d{2}\\w{4}$\"\n",
    "cols = parobeh.columns[[bool(re.match(pattern, c)) for c in parobeh.columns]]\n",
    "cond_PD_geq4 = parobeh[cols].max(axis=1) >= 4"
   ]
  },
  {
   "cell_type": "code",
   "execution_count": 25,
   "metadata": {},
   "outputs": [
    {
     "data": {
      "text/plain": [
       "0"
      ]
     },
     "execution_count": 25,
     "metadata": {},
     "output_type": "execute_result"
    }
   ],
   "source": [
    "parobeh_hyperplasia_case = parobeh.loc[cond_CAL0 & cond_PD_geq4].copy()\n",
    "parobeh_hyperplasia_case[\"classification\"] = \"hyperplasia\"\n",
    "parobeh_hyperplasia_case.shape[0]"
   ]
  },
  {
   "cell_type": "markdown",
   "metadata": {},
   "source": [
    "If maximum CAL is ≥1 mm, the participants is identified as being a periodontitis case and staging is performed."
   ]
  },
  {
   "cell_type": "code",
   "execution_count": 26,
   "metadata": {},
   "outputs": [
    {
     "data": {
      "text/plain": [
       "(30, 748)"
      ]
     },
     "execution_count": 26,
     "metadata": {},
     "output_type": "execute_result"
    }
   ],
   "source": [
    "cond_CAL_geq1 = parobeh[[\"maxCALappr\", \"maxCALbo\"]].max(axis=1) >= 1\n",
    "parobeh_staging_case = parobeh.loc[cond_CAL_geq1].copy()\n",
    "staged_patients[\"parobeh_staging_case\"] = parobeh_staging_case\n",
    "parobeh_staging_case.shape"
   ]
  },
  {
   "cell_type": "code",
   "execution_count": 27,
   "metadata": {},
   "outputs": [
    {
     "name": "stdout",
     "output_type": "stream",
     "text": [
      "807\n",
      "777\n"
     ]
    }
   ],
   "source": [
    "print(data.shape[0])\n",
    "try:\n",
    "    data = data.drop(parobeh_gingivitis_case.index)\n",
    "    data = data.drop(parobeh_hyperplasia_case.index)\n",
    "    data = data.drop(parobeh_staging_case.index)\n",
    "except:\n",
    "    pass\n",
    "print(data.shape[0])"
   ]
  },
  {
   "cell_type": "markdown",
   "metadata": {},
   "source": [
    "### Hyperplasia\n",
    "When applying the 2017 classification to epidemiological data, it was necessary to introduce a new category, namely hyperplasia. Participants with no CAL and maximum PD ≥4 mm were classified as having hyperplasia."
   ]
  },
  {
   "cell_type": "code",
   "execution_count": 28,
   "metadata": {},
   "outputs": [],
   "source": [
    "cond_CAL0 = data[[\"maxCALappr\", \"maxCALbo\"]].max(axis=1) == 0\n",
    "pattern = r\"st\\d{2}\\w{4}$\"\n",
    "cols = data.columns[[bool(re.match(pattern, c)) for c in data.columns]]\n",
    "cond_PD_geq4 = data[cols].max(axis=1) >= 4"
   ]
  },
  {
   "cell_type": "code",
   "execution_count": 29,
   "metadata": {},
   "outputs": [
    {
     "data": {
      "text/plain": [
       "(1, 749)"
      ]
     },
     "execution_count": 29,
     "metadata": {},
     "output_type": "execute_result"
    }
   ],
   "source": [
    "hyperplasia_case = data.loc[cond_CAL0 & cond_PD_geq4].copy()\n",
    "hyperplasia_case[\"classification\"] = \"hyperplasia\"\n",
    "hyperplasia_case.shape"
   ]
  },
  {
   "cell_type": "code",
   "execution_count": 30,
   "metadata": {},
   "outputs": [
    {
     "name": "stdout",
     "output_type": "stream",
     "text": [
      "777\n",
      "776\n"
     ]
    }
   ],
   "source": [
    "print(data.shape[0])\n",
    "try:\n",
    "    data = data.drop(hyperplasia_case.index)\n",
    "except:\n",
    "    pass\n",
    "print(data.shape[0])"
   ]
  },
  {
   "cell_type": "markdown",
   "metadata": {
    "tags": []
   },
   "source": [
    "## Gingivitis scheme (Chapple et al., 2018)"
   ]
  },
  {
   "cell_type": "markdown",
   "metadata": {},
   "source": [
    "### Criteria\n",
    "\n",
    "> If maximum CAL is 0 and maximum PD is $\\leq$ 3 mm, then based on their BOP value, participants are further classified as having an “intact and healthy periodontium” (BOP<10%), “localized gingivitis in an intact periodontium” (BOP 10-30%), or “generalized gingivitis in an intact periodontium” (BOP>30%).\n",
    "\n",
    "> If maximum CAL is 0 and maximum PD is $\\geq$ 4 mm, then they are classified as having hyperplasia!\n"
   ]
  },
  {
   "cell_type": "markdown",
   "metadata": {},
   "source": [
    ">* `maxCALappr`: maximaler interdentaler CAL (mm)\n",
    ">* `maxCALbo`: maximaler bukkaler/oraler CAL (mm)"
   ]
  },
  {
   "cell_type": "code",
   "execution_count": 31,
   "metadata": {},
   "outputs": [],
   "source": [
    "cond_CAL0 = data[[\"maxCALappr\", \"maxCALbo\"]].max(axis=1) == 0\n",
    "pattern = r\"st\\d{2}\\w{4}$\"\n",
    "cols = data.columns[[bool(re.match(pattern, c)) for c in data.columns]]\n",
    "cond_PD_leq3 = data[cols].max(axis=1) <= 3"
   ]
  },
  {
   "cell_type": "code",
   "execution_count": 32,
   "metadata": {},
   "outputs": [
    {
     "name": "stdout",
     "output_type": "stream",
     "text": [
      "(5, 748)\n"
     ]
    }
   ],
   "source": [
    "gingivitis_case = data.loc[cond_CAL0 & cond_PD_leq3].copy()\n",
    "print(gingivitis_case.shape)\n",
    "\n",
    "lookup = {\n",
    "    \"< 10 % bleeding sites\": \"intact and healthy periodontium\",\n",
    "    \"10-30 % bleeding sites\": \"localized gingivitis in an intact periodontium\",\n",
    "    \"> 30 % bleeding sites\": \"generalized gingivitis in an intact periodontium\",\n",
    "}\n",
    "gingivitis_case[\"classification\"] = gingivitis_case[\"bop_cat\"].apply(\n",
    "    lambda x: lookup.get(x, np.nan)\n",
    ")"
   ]
  },
  {
   "cell_type": "code",
   "execution_count": 33,
   "metadata": {},
   "outputs": [
    {
     "data": {
      "text/plain": [
       "(0, 749)"
      ]
     },
     "execution_count": 33,
     "metadata": {},
     "output_type": "execute_result"
    }
   ],
   "source": [
    "cond_PD_geq4 = data[cols].max(axis=1) >= 4\n",
    "gingivitis_hyperplasia_case = data.loc[cond_CAL0 & cond_PD_geq4].copy()\n",
    "gingivitis_hyperplasia_case[\"classification\"] = \"hyperplasia\"\n",
    "gingivitis_hyperplasia_case.shape"
   ]
  },
  {
   "cell_type": "code",
   "execution_count": 34,
   "metadata": {},
   "outputs": [
    {
     "name": "stdout",
     "output_type": "stream",
     "text": [
      "776\n",
      "771\n"
     ]
    }
   ],
   "source": [
    "print(data.shape[0])\n",
    "try:\n",
    "    data = data.drop(gingivitis_case.index)\n",
    "    data = data.drop(gingivitis_hyperplasia_case.index)\n",
    "except:\n",
    "    pass\n",
    "print(data.shape[0])"
   ]
  },
  {
   "cell_type": "markdown",
   "metadata": {},
   "source": [
    "## Summary"
   ]
  },
  {
   "cell_type": "code",
   "execution_count": 35,
   "metadata": {},
   "outputs": [
    {
     "data": {
      "text/plain": [
       "dict_keys(['few_teeth_staging', 'no_CAL_staging_case', 'parobeh_staging_case'])"
      ]
     },
     "execution_count": 35,
     "metadata": {},
     "output_type": "execute_result"
    }
   ],
   "source": [
    "staged_patients.keys()"
   ]
  },
  {
   "cell_type": "code",
   "execution_count": 36,
   "metadata": {
    "tags": []
   },
   "outputs": [
    {
     "data": {
      "text/plain": [
       "(156, 748)"
      ]
     },
     "execution_count": 36,
     "metadata": {},
     "output_type": "execute_result"
    }
   ],
   "source": [
    "_staged_patients = []\n",
    "for _, v in staged_patients.items():\n",
    "    _staged_patients.append(v)\n",
    "special_staging_cases = pd.concat(_staged_patients)\n",
    "special_staging_cases.shape"
   ]
  },
  {
   "cell_type": "code",
   "execution_count": 37,
   "metadata": {},
   "outputs": [],
   "source": [
    "non_periodontitis_patient = {\n",
    "    \"no_CAL_gingivitis_case\": no_CAL_gingivitis_case,\n",
    "    \"parobeh_gingivitis_case\": parobeh_gingivitis_case,\n",
    "    \"parobeh_hyperplasia_case\": parobeh_hyperplasia_case,\n",
    "    \"hyperplasia_case\": hyperplasia_case,\n",
    "    \"gingivitis_case\": gingivitis_case,\n",
    "    \"gingivitis_hyperplasia_case\": gingivitis_hyperplasia_case,\n",
    "    \"few_teeth_case\": few_teeth_case,\n",
    "}"
   ]
  },
  {
   "cell_type": "code",
   "execution_count": 38,
   "metadata": {},
   "outputs": [
    {
     "data": {
      "text/plain": [
       "53"
      ]
     },
     "execution_count": 38,
     "metadata": {},
     "output_type": "execute_result"
    }
   ],
   "source": [
    "_non_periodontitis_patient = []\n",
    "for _, v in non_periodontitis_patient.items():\n",
    "    _non_periodontitis_patient.append(v)\n",
    "_non_periodontitis_patient = pd.concat(_non_periodontitis_patient)\n",
    "_non_periodontitis_patient.shape[0]"
   ]
  },
  {
   "cell_type": "code",
   "execution_count": 39,
   "metadata": {},
   "outputs": [
    {
     "data": {
      "image/png": "[encoded data removed]",
      "text/plain": [
       "<Figure size 864x432 with 1 Axes>"
      ]
     },
     "metadata": {
      "needs_background": "light"
     },
     "output_type": "display_data"
    }
   ],
   "source": [
    "_special_staging_cases = special_staging_cases.copy()\n",
    "_special_staging_cases[\"classification\"] = \"staging\"\n",
    "ax = (\n",
    "    pd.concat([_special_staging_cases, _non_periodontitis_patient])[\"classification\"]\n",
    "    # special_cases[\"classification\"]\n",
    "    .value_counts().plot.barh()\n",
    ")\n",
    "for container in ax.containers:\n",
    "    ax.bar_label(container, size=15)\n",
    "ax.set_ylabel(\"\")\n",
    "ax.grid(axis=\"x\")"
   ]
  },
  {
   "cell_type": "code",
   "execution_count": 40,
   "metadata": {},
   "outputs": [
    {
     "data": {
      "text/plain": [
       "771"
      ]
     },
     "execution_count": 40,
     "metadata": {},
     "output_type": "execute_result"
    }
   ],
   "source": [
    "980 - 156 - 53"
   ]
  },
  {
   "cell_type": "markdown",
   "metadata": {},
   "source": [
    "## Save to disk"
   ]
  },
  {
   "cell_type": "code",
   "execution_count": 41,
   "metadata": {},
   "outputs": [
    {
     "name": "stdout",
     "output_type": "stream",
     "text": [
      "(771, 748)\n",
      "(156, 748)\n",
      "(53, 749)\n"
     ]
    }
   ],
   "source": [
    "print(data.shape)\n",
    "print(special_staging_cases.shape)\n",
    "print(_non_periodontitis_patient.shape)"
   ]
  },
  {
   "cell_type": "code",
   "execution_count": 42,
   "metadata": {},
   "outputs": [
    {
     "data": {
      "text/plain": [
       "(927, 748)"
      ]
     },
     "execution_count": 42,
     "metadata": {},
     "output_type": "execute_result"
    }
   ],
   "source": [
    "out_data = pd.concat([data, special_staging_cases])\n",
    "out_data.shape"
   ]
  },
  {
   "cell_type": "code",
   "execution_count": 43,
   "metadata": {},
   "outputs": [],
   "source": [
    "fn = \"dmsV_periodontitis_cases.parquet\"\n",
    "fp = DATA.joinpath(\"processed\", fn)\n",
    "out_data.to_parquet(fp)\n",
    "assert fp.exists(), fp"
   ]
  },
  {
   "cell_type": "code",
   "execution_count": 44,
   "metadata": {},
   "outputs": [],
   "source": [
    "fn = \"dmsV_non_periodontitis_patient.parquet\"\n",
    "fp = DATA.joinpath(\"processed\", fn)\n",
    "_non_periodontitis_patient.to_parquet(fp)\n",
    "assert fp.exists(), fp"
   ]
  },
  {
   "cell_type": "markdown",
   "metadata": {},
   "source": [
    "### Save dict"
   ]
  },
  {
   "cell_type": "code",
   "execution_count": 45,
   "metadata": {},
   "outputs": [],
   "source": [
    "out = (staged_patients, non_periodontitis_patient)"
   ]
  }
 ],
 "metadata": {
  "kernelspec": {
   "display_name": "Python 3 (ipykernel)",
   "language": "python",
   "name": "python3"
  },
  "language_info": {
   "codemirror_mode": {
    "name": "ipython",
    "version": 3
   },
   "file_extension": ".py",
   "mimetype": "text/x-python",
   "name": "python",
   "nbconvert_exporter": "python",
   "pygments_lexer": "ipython3",
   "version": "3.9.7"
  }
 },
 "nbformat": 4,
 "nbformat_minor": 4
}
